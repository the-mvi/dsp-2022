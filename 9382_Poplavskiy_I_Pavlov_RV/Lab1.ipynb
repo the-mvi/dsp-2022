{
 "cells": [
  {
   "cell_type": "markdown",
   "id": "72e8f959",
   "metadata": {},
   "source": [
    "# Лабораторная работа №1: Моделирование стандартных дискретных сигналов\n",
    "\n",
    "Выполнили студенты гр. 9382 Павлов Роман и Поплавский Иван. Вариант №8"
   ]
  },
  {
   "cell_type": "markdown",
   "id": "ac5a1e58",
   "metadata": {},
   "source": [
    "## Цель работы\n",
    "\n",
    "Изучить математическое описание стандартных дискретных сигналов и овладеть программными средствами их моделирования."
   ]
  },
  {
   "cell_type": "markdown",
   "id": "63c1066c",
   "metadata": {},
   "source": [
    "## Основные теоретические положения\n",
    "\n",
    "<b>Дискретизация</b> - определение моментов времени, в которые производятся отсчёты и отслеживается значение сигнала.\n",
    "\n",
    "<b>Период дискретизации</b> $T$ - временной промежуток, через который берутся эти моменты времени.\n",
    "\n",
    "<b>Частота дискретизации</b> $f_d$ - величина, обратная периоду дискретизации: $f_d = \\frac{1}{T}$.\n",
    "\n",
    "\\\n",
    "<b>Дискретное время</b> - временной интервал, на котором отсчёты берутся по прошествии $T$ : $nT, n \\in \\{0, .. ,N-1\\}$.\n",
    "\n",
    "<b>Дискретное нормированное время</b> - интервал, на котором $T = 1$, т.е. отсчёты - это целые числа $n, n \\in \\{0, .. ,N-1\\}$.\n",
    "\n",
    "\\\n",
    "<b>Единичный цифровой имульс</b> имеет следующую функцию:\\\n",
    "\\\n",
    "$\\begin{equation}\n",
    "    \\delta_d(k) =\n",
    "        \\begin{cases}\n",
    "        1, k = 0\\\\\n",
    "        0, k \\ne 0\n",
    "        \\end{cases}\n",
    " \\end{equation}\n",
    "$, $k \\in \\mathbb{Z}$\n",
    "\n",
    "ЕЦИ является цифровым аналогом функции Дирака:\\\n",
    "\\\n",
    "$\\begin{equation}\n",
    "    \\delta(t) =\n",
    "        \\begin{cases}\n",
    "        \\infty, t = 0\\\\\n",
    "        0, t \\ne 0\n",
    "        \\end{cases}\n",
    " \\end{equation}\n",
    "$, $t \\in \\mathbb{R}$\n",
    "\n",
    "\\\n",
    "<b>Дискретный единичный скачок</b> определяется как\\\n",
    "\\\n",
    "$\\begin{equation}\n",
    "    \\sigma_d(k) =\n",
    "        \\begin{cases}\n",
    "        1, k \\ge 0\\\\\n",
    "        0, k < 0\n",
    "        \\end{cases}\n",
    " \\end{equation}\n",
    "$, $k \\in \\mathbb{Z}$\n",
    "\n",
    "и является аналогом функции Хэвисайда единичного скачка:\\\n",
    "\\\n",
    "$\\begin{equation}\n",
    "    \\delta(t) =\n",
    "        \\begin{cases}\n",
    "        1 & \\text{,t > 0}\\\\\n",
    "        0.5\\ (or\\ not\\ defined)& \\text{,t = 0}\\\\\n",
    "        0 & \\text{,t < 0}\n",
    "        \\end{cases}\n",
    " \\end{equation}\n",
    "$, $t \\in \\mathbb{R}$.\n",
    "\n",
    "\\\n",
    "<b>Дискретная экспоненциальная функция</b>:\\\n",
    "\\\n",
    "$\\begin{equation}\n",
    "    s(k) =\n",
    "        \\begin{cases}\n",
    "        0, k < 0\\\\\n",
    "        a^k, k \\ge 0\n",
    "        \\end{cases}\n",
    " \\end{equation}\n",
    "$, $k \\in \\mathbb{Z}$\n",
    ", где a - известная экспонента.\n",
    "\n",
    "\\\n",
    "<b>Дискретный комплексный гармонический сигнал</b> - это сигнал с двумя компонентами, представляемый в виде:\\\n",
    "\\\n",
    "$s(k) = C\\large e^{j \\hat w_0 k} \\normalsize = Ccos(\\hat w_0 k) + Cjsin(\\hat w_0 k)$,\\\n",
    "\\\n",
    "где $C$ - амплитуда сигнала, а $\\hat w_0$ - его угловая частота, равная $2\\pi f_d$"
   ]
  },
  {
   "cell_type": "markdown",
   "id": "60af1756",
   "metadata": {},
   "source": [
    "## Постановка задачи\n",
    "\n",
    "С помощью программных средств провести моделирование и анализ стандартных дискретных последовательностей. Результаты подкрепить соответствующими графиками и выводами."
   ]
  },
  {
   "cell_type": "markdown",
   "id": "1de7607f",
   "metadata": {},
   "source": [
    "## Выполнение работы\n",
    "\n",
    "$N_b = 8$\n",
    "\n",
    "Объявлены значения параметров в соответствии с номером варианта.\n",
    "Интервалы дискретного и нормированного дискретного времени расширены на $2T$ и $2$ соответственно включением отрицательных значений для наглядности графиков."
   ]
  },
  {
   "cell_type": "code",
   "execution_count": 1,
   "id": "79de69fa",
   "metadata": {},
   "outputs": [],
   "source": [
    "from cmath import exp\n",
    "from math import sin, cos, pi\n",
    "import numpy as np\n",
    "import matplotlib.pyplot as plt\n",
    "\n",
    "Nb = 8    # Номер бригады\n",
    "N = 30 + Nb%5    # Длина последовательности\n",
    "T = 0.0005 * (1 + Nb%3)    # Период дискретизации\n",
    "a = (-1)**Nb * (0.8 + 0.005*Nb)    # Основание экспоненты\n",
    "C = 1 + Nb%5    # Амплитуда гармонического сигнала\n",
    "w0 = pi/(6 + Nb%5)    # Частота гармонического сигнала\n",
    "m = 5 + Nb%5    # Задержка\n",
    "\n",
    "nT = np.linspace(-2*T, (N - 1)*T, (N+2))    # Интервал дискретного времени\n",
    "n = np.arange(-2, N)    # Интервал дискретного нормированного времени"
   ]
  },
  {
   "cell_type": "markdown",
   "id": "ecd989ef",
   "metadata": {},
   "source": [
    "1.Задана функция $\\delta_d(k)$ - функция единичного цифрового импульса, сгенерированы наборы значений этой функции на имеющихся временных интервалах:"
   ]
  },
  {
   "cell_type": "code",
   "execution_count": 2,
   "id": "1adebe72",
   "metadata": {},
   "outputs": [
    {
     "data": {
      "image/png": "[encoded data removed]",
      "text/plain": [
       "<Figure size 432x288 with 1 Axes>"
      ]
     },
     "metadata": {
      "needs_background": "light"
     },
     "output_type": "display_data"
    },
    {
     "data": {
      "image/png": "[encoded data removed]",
      "text/plain": [
       "<Figure size 432x288 with 1 Axes>"
      ]
     },
     "metadata": {
      "needs_background": "light"
     },
     "output_type": "display_data"
    }
   ],
   "source": [
    "delta_d = lambda x: 1 if x == 0 else 0\n",
    "delta_d_vals_nT = np.array([delta_d(i) for i in nT])\n",
    "delta_d_vals_n = np.array([delta_d(i) for i in n])\n",
    "\n",
    "plt.stem(nT, delta_d_vals_nT)\n",
    "plt.xlim([-2*T, N*T])\n",
    "plt.title(\"nT\")\n",
    "plt.show()\n",
    "\n",
    "plt.stem(n, delta_d_vals_n)\n",
    "plt.xlim([-2, N])\n",
    "plt.title(\"n\")\n",
    "plt.show()"
   ]
  },
  {
   "cell_type": "markdown",
   "id": "9197b32a",
   "metadata": {},
   "source": [
    "Как видно из графиков выше, цифровой единичный импульс принимает значение 1 только в точке 0 как на интервале дискретного, так и на интервале дискретного нормированного времени.\n",
    "\n",
    "Дискретное время зависит от дискретного нормированного следующим образом:\n",
    "\n",
    "$nT$, где $T$ - период дискретизации, а $n \\in \\{0, .. ,N - 1\\}$ - отсчёты времени без учёта периода дискретизации ($T$ полагается равным единице).\n",
    "\n",
    "И дельта-функция, и функция цифрового импульса имеют ненулевое значение в точке $0$. Различие состоит в том, что первая определена на множестве вещественных чисел и в точке $0$ имеет значение $\\infty$, а последняя определена на множестве целых чисел и принимает значение $1$ в нуле."
   ]
  },
  {
   "cell_type": "markdown",
   "id": "a5a57ed3",
   "metadata": {},
   "source": [
    "2.Задана функция $\\sigma_d(k)$ дискретного единичного скачка, для неё также сгенерированы наборы значений:"
   ]
  },
  {
   "cell_type": "code",
   "execution_count": 3,
   "id": "d96dde96",
   "metadata": {},
   "outputs": [
    {
     "data": {
      "image/png": "[encoded data removed]",
      "text/plain": [
       "<Figure size 432x288 with 1 Axes>"
      ]
     },
     "metadata": {
      "needs_background": "light"
     },
     "output_type": "display_data"
    },
    {
     "data": {
      "image/png": "[encoded data removed]",
      "text/plain": [
       "<Figure size 432x288 with 1 Axes>"
      ]
     },
     "metadata": {
      "needs_background": "light"
     },
     "output_type": "display_data"
    }
   ],
   "source": [
    "sigma_d = lambda x: 1 if x >= 0 else 0\n",
    "sigma_d_vals_nT = np.array([sigma_d(i) for i in nT])\n",
    "sigma_d_vals_n = np.array([sigma_d(i) for i in n])\n",
    "\n",
    "plt.stem(nT, sigma_d_vals_nT)\n",
    "plt.xlim([-2*T, N*T])\n",
    "plt.title(\"nT\")\n",
    "plt.show()\n",
    "\n",
    "plt.stem(n, sigma_d_vals_n)\n",
    "plt.xlim([-2, N])\n",
    "plt.title(\"n\")\n",
    "plt.show()"
   ]
  },
  {
   "cell_type": "markdown",
   "id": "f4f0b862",
   "metadata": {},
   "source": [
    "Как и функция Хэвисайда, определённая на $\\mathbb{R}$, дискретный скачок, определённый на $\\mathbb{Z}$, на положительных значениях принимает значение $1$, а на отрицательных - $0$.\n",
    "Однако в то время, как дискретный скачок имеет вполне определённое значение в нуле - единицу, функция Хэвисайда в данной точке считается равной $0.5$ или не определённой вовсе.\n",
    "\n",
    "Частота дискретизации $f_d$ - величина, обратная периоду дискретизации: $f_d = \\large\\frac{1}{T}$. Для единичного скачка на интервалах $nT$ и $n$ частота дискретизации будет равна соответственно $666.(6)$ Гц и $1$ Гц."
   ]
  },
  {
   "cell_type": "markdown",
   "id": "717da752",
   "metadata": {},
   "source": [
    "3.Смоделирована дискретная экспоненциальная функция $s_1(k)$:"
   ]
  },
  {
   "cell_type": "code",
   "execution_count": 4,
   "id": "ffe518d9",
   "metadata": {},
   "outputs": [
    {
     "data": {
      "image/png": "[encoded data removed]",
      "text/plain": [
       "<Figure size 432x288 with 1 Axes>"
      ]
     },
     "metadata": {
      "needs_background": "light"
     },
     "output_type": "display_data"
    },
    {
     "data": {
      "image/png": "[encoded data removed]",
      "text/plain": [
       "<Figure size 432x288 with 1 Axes>"
      ]
     },
     "metadata": {
      "needs_background": "light"
     },
     "output_type": "display_data"
    }
   ],
   "source": [
    "s1 = lambda x: a**x if x >= 0 else 0\n",
    "s1_vals_nT = np.array([s1(i) for i in nT])\n",
    "s1_vals_n = np.array([s1(i) for i in n])\n",
    "\n",
    "plt.stem(nT, s1_vals_nT)\n",
    "plt.xlim([-2*T, N*T])\n",
    "plt.title(\"nT\")\n",
    "plt.show()\n",
    "\n",
    "plt.stem(n, s1_vals_n)\n",
    "plt.xlim([-2, N])\n",
    "plt.title(\"n\")\n",
    "plt.show()"
   ]
  },
  {
   "cell_type": "markdown",
   "id": "4eb7fb8d",
   "metadata": {},
   "source": [
    "Дискретная экспонента имеет значения только в точках дискретизации, т.е. является подмножеством множества точек аналоговой экспоненты с основанием $a$.\n",
    "На первом графике убывание значения экспоненциальной функции почти не заметно - это связано с тем, что дискретное время на нём не нормировано, т.к. период дискретизации заметно меньше единицы:\n",
    "\n",
    "$0.0015 < 1$.\n",
    "\n",
    "В связи с этим масштаб графика не позволяет отчётливо проследить изменение уровня сигнала."
   ]
  },
  {
   "cell_type": "markdown",
   "id": "fe4c377e",
   "metadata": {},
   "source": [
    "4.Смоделирован дискретный комплексный гармонический сигнал $s_2(k) = C \\large e^{j \\hat w_0 k}$:"
   ]
  },
  {
   "cell_type": "code",
   "execution_count": 5,
   "id": "84fda9e9",
   "metadata": {
    "scrolled": false
   },
   "outputs": [
    {
     "data": {
      "image/png": "[encoded data removed]",
      "text/plain": [
       "<Figure size 432x288 with 1 Axes>"
      ]
     },
     "metadata": {
      "needs_background": "light"
     },
     "output_type": "display_data"
    }
   ],
   "source": [
    "s2 = lambda x: C*exp(complex(0, w0*x))\n",
    "s2_vals_n = np.array([s2(i) for i in n])\n",
    "\n",
    "plt.stem(n, s2_vals_n.real, )\n",
    "plt.stem(n, s2_vals_n.imag, linefmt=\"C1\", markerfmt=\"C1o\")\n",
    "plt.xlim([-2, N])\n",
    "plt.show()"
   ]
  },
  {
   "cell_type": "markdown",
   "id": "3ba18054",
   "metadata": {},
   "source": [
    "График, приведённый выше, подтверждает корректность модели:\n",
    "\n",
    "Амплитуда $C = 4$\n",
    "\n",
    "Частота дискретизации $f_d = \\large \\frac{\\hat w_0}{2\\pi} = \\frac{\\pi}{9} * \\frac{1}{2\\pi} = \\normalsize \\frac{1}{18}$. Действительно, период сигнала равен 18 отсчётам, что видно на графике.\n",
    "\n",
    "Данный сигнал можно записать в виде комбиинации двух вещественных последовательностей - $Ccos(\\hat w_0 t)$ и $Csin(\\hat w_0 t)$, где первая последовательность - его вещественная составляющая, а вторая - мнимая:"
   ]
  },
  {
   "cell_type": "code",
   "execution_count": 6,
   "id": "fa4d2d7a",
   "metadata": {},
   "outputs": [
    {
     "data": {
      "image/png": "[encoded data removed]",
      "text/plain": [
       "<Figure size 432x288 with 1 Axes>"
      ]
     },
     "metadata": {
      "needs_background": "light"
     },
     "output_type": "display_data"
    }
   ],
   "source": [
    "real = np.array([C*cos(w0*x) for x in n])\n",
    "imaginary = np.array([C*sin(w0*x) for x in n])\n",
    "\n",
    "plt.stem(n, real)\n",
    "plt.stem(n, imaginary, linefmt=\"C1\", markerfmt=\"C1o\")\n",
    "plt.show()"
   ]
  },
  {
   "cell_type": "markdown",
   "id": "5a2d0ed6",
   "metadata": {},
   "source": [
    "Графики, построенные по двум последовательностям вещественных чисел, соответствуют графикам вещественной и мнимой частей комплексного сигнала."
   ]
  },
  {
   "cell_type": "markdown",
   "id": "4142d7e5",
   "metadata": {},
   "source": [
    "5.Осуществлена задержка сигналов $\\delta_d(k)$, $\\sigma_d(k)$ и $s_1(k)$ на $m$ отсчётов:"
   ]
  },
  {
   "cell_type": "code",
   "execution_count": 7,
   "id": "375578d1",
   "metadata": {},
   "outputs": [
    {
     "data": {
      "image/png": "[encoded data removed]",
      "text/plain": [
       "<Figure size 432x288 with 1 Axes>"
      ]
     },
     "metadata": {
      "needs_background": "light"
     },
     "output_type": "display_data"
    },
    {
     "data": {
      "image/png": "[encoded data removed]",
      "text/plain": [
       "<Figure size 432x288 with 1 Axes>"
      ]
     },
     "metadata": {
      "needs_background": "light"
     },
     "output_type": "display_data"
    },
    {
     "data": {
      "image/png": "[encoded data removed]",
      "text/plain": [
       "<Figure size 432x288 with 1 Axes>"
      ]
     },
     "metadata": {
      "needs_background": "light"
     },
     "output_type": "display_data"
    }
   ],
   "source": [
    "delta_d_vals_n_shifted = np.array([delta_d(i - m) for i in n])\n",
    "sigma_d_vals_n_shifted = np.array([sigma_d(i - m) for i in n])\n",
    "s1_vals_n_shifted = np.array([s1(i - m) for i in n])\n",
    "\n",
    "plt.stem(n, delta_d_vals_n_shifted)\n",
    "plt.title(\"Impulse\")\n",
    "plt.show()\n",
    "\n",
    "plt.stem(n, sigma_d_vals_n_shifted)\n",
    "plt.title(\"Jump\")\n",
    "plt.show()\n",
    "\n",
    "plt.stem(n, s1_vals_n_shifted)\n",
    "plt.title(\"Exponential function\")\n",
    "plt.show()"
   ]
  },
  {
   "cell_type": "markdown",
   "id": "1f6a8cf9",
   "metadata": {},
   "source": [
    "Сдвиг эквивалентен вычитанию величины сдвига $m$ из аргумента функции - таким образом, в точке, смещённой относительно нуля на $m$, параметр $k$ будет равен нулю, что даст проявление импульса, скачка или экспоненциальной функции именно в точке $m$.\n",
    "\n",
    "Тогда формулы задержанных последовательностей будут иметь следующий вид:\n",
    "\n",
    "$\\delta_d(k - m)$\n",
    "\n",
    "$\\sigma_d(k - m)$\n",
    "\n",
    "$s_1(k - m)$"
   ]
  },
  {
   "cell_type": "markdown",
   "id": "2028682b",
   "metadata": {},
   "source": [
    "## Выводы\n",
    "\n",
    "В ходе работы были смоделированы стандартные дискретные последовательности: импульс, скачок, экспоненциальная функция, гармонический сигнал. Данные последовательности являются дискретными аналогами непрерывных сигналов (функций) и широко используются в цифровой обработке сигналов.\n",
    "\n",
    "Комплексный сигнал может быть представлен двумя вещественными последовательностями, что облегчает обработку таких сигналов.\n",
    "\n",
    "Сигналы могут быть задержаны путём вычитания из аргумента функции величины сдвига по времени $m$. В таком случае функция сигнала будет в точке $x$ принимать значение $f(x - m)$."
   ]
  }
 ],
 "metadata": {
  "kernelspec": {
   "display_name": "Python 3 (ipykernel)",
   "language": "python",
   "name": "python3"
  },
  "language_info": {
   "codemirror_mode": {
    "name": "ipython",
    "version": 3
   },
   "file_extension": ".py",
   "mimetype": "text/x-python",
   "name": "python",
   "nbconvert_exporter": "python",
   "pygments_lexer": "ipython3",
   "version": "3.9.10"
  }
 },
 "nbformat": 4,
 "nbformat_minor": 5
}
